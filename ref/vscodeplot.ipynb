import numpy as np
import matplotlib.pyplot as plt


x_bits = [100, 300, 600, 900]


t1 = [9, 27, 54, 81]
t2 = [44, 84, 144, 204]
t3 = [96, 288, 576, 864]
t4 = [326, 594, 996, 1398]
t5 = [0.65, 8.25, 11]
t6 = [8.25, 11]

s1 = [0.5451, 0.5767, 0.5903, 0.5968]
s2 = [0.5101, 0.5781, 0.5977, 0.6047]
s3 = [0.5510, 0.5884, 0.5973, 0.6018]
s4 = [0.5512, 0.5908, 0.6025, 0.6067]
s5 = [0.5093, 0.5469, 0.5494]
plt.subplot(1, 2, 1)
#plt.semilogx(t1, s1, 'r-', t2, s2, 'b-', t3, s3, 'g-', t4, s4, 'y-')
plt.semilogx(t1, s1, marker='o', markersize=3, linestyle='-', linewidth=2, color='red', label='MIRNF_DS')
plt.semilogx(t2, s2, marker='o', markersize=3, linestyle='-', linewidth=2, color='orange', label='MIRNF_DC')
plt.semilogx(t3, s3, marker='o', markersize=3, linestyle='-', linewidth=2, color='blue', label='MIRNF_DDS')
plt.semilogx(t4, s4, marker='o', markersize=3, linestyle='-', linewidth=2, color='green', label='MIRNF_DDC')
plt.semilogx(t5, s5, '*', markersize=8, color='purple', label='Mind1')
plt.xlabel('Runtime')
plt.ylabel('Y1')
plt.xticks([1, 100, 500, 1000], ['100', '300', '600', '900']) 


t1 = [9, 27, 54, 81]
t2 = [44, 84, 144, 204]
t3 = [96, 288, 576, 864]
t4 = [326, 594, 996, 1398]

r1 = [7.8e-4, 1.57e-3, 2.27e-3, 2.8e-3]
r2 = [1.04e-3, 1.24e-3, 1.43e-3, 1.58e-3]
r3 = [2.1e-7, 1.79e-5, 4.49e-5, 6.46e-5]
r4 = [9.64e-6, 2.01e-5, 3.06e-5, 3.7e-5]
r5 = [7e-7, 512.7185]
plt.subplot(1, 2, 2)
#plt.loglog(t1, r1, 'r-', t2, r2, 'b-', t3, r3, 'g-', t4, r4, 'y-')
plt.loglog(t1, r1, marker='o', markersize=3, linestyle='-', linewidth=2, color='red', label='MIRNF_DS')
plt.loglog(t2, r2, marker='o', markersize=3, linestyle='-', linewidth=2, color='orange', label='MIRNF_DC')
plt.loglog(t3, r3, marker='o', markersize=3, linestyle='-', linewidth=2, color='blue', label='MIRNF_DDS')
plt.loglog(t4, r4, marker='o', markersize=3, linestyle='-', linewidth=2, color='green', label='MIRNF_DDC')
plt.loglog(t6, r5, '*', markersize=8, color='purple', label='Mind2')
plt.xlabel('Runtime')
plt.ylabel('Y2')
plt.xticks([1, 100, 500, 1000], ['100', '300', '600', '900'])
plt.yticks([1, 10, 20, 100], ['100', '300', '600', '900'])

#plt.legend(bbox_to_anchor =(0.65, 1.25))
plt.legend(loc = "upper right")


plt.show()
